{
 "cells": [
  {
   "cell_type": "code",
   "execution_count": 1,
   "source": [
    "import math\n",
    "from pathlib import Path\n",
    "import numpy as np\n",
    "import pandas as pd"
   ],
   "outputs": [],
   "metadata": {
    "execution": {
     "iopub.execute_input": "2021-06-03T01:22:58.844022Z",
     "iopub.status.busy": "2021-06-03T01:22:58.843864Z",
     "iopub.status.idle": "2021-06-03T01:22:59.006872Z",
     "shell.execute_reply": "2021-06-03T01:22:59.006293Z",
     "shell.execute_reply.started": "2021-06-03T01:22:58.843975Z"
    }
   }
  },
  {
   "cell_type": "code",
   "execution_count": 2,
   "source": [
    "def read_edit(csv_dir):\n",
    "    attribute_res = pd.read_csv(\n",
    "        csv_dir,\n",
    "        header=None,\n",
    "        sep=\"\\s+\",\n",
    "        names=[\"model_name\", \"pair_file\", \"pair_size\", \"Acc\"],\n",
    "    )\n",
    "\n",
    "    attribute_res[\"attr_name\"] = attribute_res.pair_file.apply(\n",
    "        lambda x: x.split(\"from\")[0]\n",
    "    )  # subgroup based\n",
    "    # attribute_res[\"attr_name\"] = attribute_res.pair_file.apply(\n",
    "    #     lambda x: x.split('_')[0]) #attribute based\n",
    "\n",
    "    attribute_res[\"model_name\"] = attribute_res.model_name.apply(\n",
    "        lambda x: x.split(\"/\")[-2]\n",
    "    )\n",
    "\n",
    "    attribute_res = attribute_res.drop(columns=[\"pair_file\", \"pair_size\"])\n",
    "    return attribute_res"
   ],
   "outputs": [],
   "metadata": {
    "execution": {
     "iopub.execute_input": "2021-06-03T01:22:59.007819Z",
     "iopub.status.busy": "2021-06-03T01:22:59.007673Z",
     "iopub.status.idle": "2021-06-03T01:22:59.015439Z",
     "shell.execute_reply": "2021-06-03T01:22:59.014960Z",
     "shell.execute_reply.started": "2021-06-03T01:22:59.007801Z"
    }
   }
  },
  {
   "cell_type": "code",
   "execution_count": 3,
   "source": [
    "a = read_edit(\n",
    "    \"../../test_assets/AttributePairs/setup2/attribute_rfw_test_results.log\"\n",
    ")\n",
    "b = read_edit(\n",
    "    \"../../test_assets/AttributePairs/setup1/attribute_rfw_test_results.log\"\n",
    ")\n",
    "\n",
    "attribute_res = pd.concat([a, b])\n",
    "mean = attribute_res.groupby([\"model_name\", \"attr_name\"], observed=True).mean()\n",
    "mean = mean.rename(columns={\"Acc\": \"Mean_Acc\"})\n",
    "\n",
    "attribute_res = attribute_res.merge(\n",
    "    mean, on=[\"model_name\", \"attr_name\"], how=\"left\", validate=\"m:1\"\n",
    ")\n",
    "attribute_res = attribute_res.drop_duplicates(subset=[\"model_name\", \"attr_name\"])\n",
    "\n",
    "attribute_res = attribute_res[~attribute_res.attr_name.isin(['race_African_6000.csv','race_Asian_6000.csv','race_Indian_6000.csv','race_Caucasian_6000.csv'])]\n",
    "\n",
    "\n",
    "for i,gg in attribute_res.groupby('model_name'):\n",
    "\n",
    "    print(gg.model_name.unique(),gg.std()* 100)\n",
    "    print(\"std:\", np.std(gg.Acc.values,ddof=1) * 100)\n",
    "    print(\"bias:\", (1-gg.Acc.values.min()) / (1-gg.Acc.values.max()))\n",
    "    attribute_res_excluded = gg[~gg.attr_name.isin(['skintype_type1_6000.csv','haircolor_red_6000.csv'])]\n",
    "    print(\"excluded std:\", np.std(attribute_res_excluded.Acc.values,ddof=1) * 100)\n",
    "    print(\"excluded bias:\", (1-attribute_res_excluded.Acc.values.min()) / (1-attribute_res_excluded.Acc.values.max()))"
   ],
   "outputs": [
    {
     "output_type": "stream",
     "name": "stdout",
     "text": [
      "['setup1_model'] Acc         2.44847\n",
      "Mean_Acc    2.44847\n",
      "dtype: float64\n",
      "std: 2.4484696707477154\n",
      "bias: 3.9332886356017416\n",
      "excluded std: 2.399852979171312\n",
      "excluded bias: 3.9332886356017416\n",
      "['setup2_model'] Acc         2.060341\n",
      "Mean_Acc    2.060341\n",
      "dtype: float64\n",
      "std: 2.060340787807872\n",
      "bias: 3.3129144300599966\n",
      "excluded std: 1.7725220443370566\n",
      "excluded bias: 3.0493020493020526\n"
     ]
    }
   ],
   "metadata": {
    "execution": {
     "iopub.execute_input": "2021-06-03T01:22:59.016343Z",
     "iopub.status.busy": "2021-06-03T01:22:59.016205Z",
     "iopub.status.idle": "2021-06-03T01:22:59.038458Z",
     "shell.execute_reply": "2021-06-03T01:22:59.037974Z",
     "shell.execute_reply.started": "2021-06-03T01:22:59.016328Z"
    }
   }
  },
  {
   "cell_type": "code",
   "execution_count": 4,
   "source": [
    "attribute_res.columns"
   ],
   "outputs": [
    {
     "output_type": "execute_result",
     "data": {
      "text/plain": [
       "Index(['model_name', 'Acc', 'attr_name', 'Mean_Acc'], dtype='object')"
      ]
     },
     "metadata": {},
     "execution_count": 4
    }
   ],
   "metadata": {}
  },
  {
   "cell_type": "markdown",
   "source": [
    "## Table 3. Attribute-based face verification performance of RFW. σ represents the standard deviation of all attribute category accuracies, including red hair and type 1, σ∗represents excluding standard deviation.\n",
    "### it presents one attribute based results on 3000 positive 3000 negative \n",
    "### 21 attribute score + 4 african asian indian caucasian score + 2 metric bias and std 27 row, 2 column"
   ],
   "metadata": {}
  },
  {
   "cell_type": "code",
   "execution_count": 5,
   "source": [
    "attribute_res[\"Mean_Acc\"] = attribute_res[\"Mean_Acc\"].apply(\n",
    "    lambda x: \"{:.2f}\".format(x * 100)\n",
    ")\n",
    "\n",
    "attribute_res[\"attr_name\"] = attribute_res[\"attr_name\"].apply(lambda x: ' '.join(x.split(\"_\")[0:2]))\n",
    "attribute_res[\"attr_name\"] = attribute_res[\"attr_name\"].str.replace(\"skintype\", \"\")\n",
    "attribute_res[\"attr_name\"] = attribute_res[\"attr_name\"].str.replace(\n",
    "    \"haircolor\", \"Hair \"\n",
    ")\n",
    "attribute_res[\"attr_name\"] = attribute_res[\"attr_name\"].str.replace(\n",
    "    \"hairtype\", \"Hair \"\n",
    ")\n",
    "attribute_res[\"attr_name\"] = attribute_res[\"attr_name\"].str.replace(\"lips\", \"Lips \")\n",
    "attribute_res[\"attr_name\"] = attribute_res[\"attr_name\"].str.replace(\"eye\", \"eye \")\n",
    "attribute_res[\"attr_name\"] = attribute_res[\"attr_name\"].str.replace(\"nose\", \"nose \")\n",
    "attribute_res[\"attr_name\"] = attribute_res[\"attr_name\"].str.title()\n",
    "attribute_res[\"attr_name\"] = attribute_res[\"attr_name\"].apply(\n",
    "    lambda x: \" \".join(x.split(\" \")[::-1])\n",
    ")\n",
    "attribute_res = attribute_res[[\"model_name\", \"attr_name\", \"Mean_Acc\"]]\n",
    "\n",
    "\n",
    "attribute_res = attribute_res.sort_values(\n",
    "    by=[\"model_name\", \"attr_name\"], ascending=False\n",
    ")\n",
    "\n",
    "attribute_res = pd.concat(\n",
    "    [\n",
    "        attribute_res.iloc[21:].reset_index(drop=True),\n",
    "        attribute_res.iloc[:21].reset_index(drop=True),\n",
    "    ],\n",
    "    axis=1,\n",
    "    ignore_index=True,\n",
    ")\n",
    "print(attribute_res.columns)\n",
    "attribute_res = attribute_res.drop(columns=[0, 3, 4])\n",
    "attribute_res.columns = [\"Attribute\", \"Setup 1 Accuracy (%)\", \"Setup 2 Accuracy (%)\"]\n",
    "attribute_res = attribute_res.sort_values(by=[\"Setup 1 Accuracy (%)\"], ascending=False)\n",
    "\n",
    "# r100-arcface-emore\tWide Nose\t83.43\tBalanced_Softmax\tWide Nose\t86.09\n",
    "# r100-arcface-emore\tWavy Hair\t89.73\tBalanced_Softmax\tWavy Hair\t91.22\n",
    "attribute_res.head()"
   ],
   "outputs": [
    {
     "output_type": "stream",
     "name": "stdout",
     "text": [
      "RangeIndex(start=0, stop=6, step=1)\n"
     ]
    },
    {
     "output_type": "execute_result",
     "data": {
      "text/html": [
       "<div>\n",
       "<style scoped>\n",
       "    .dataframe tbody tr th:only-of-type {\n",
       "        vertical-align: middle;\n",
       "    }\n",
       "\n",
       "    .dataframe tbody tr th {\n",
       "        vertical-align: top;\n",
       "    }\n",
       "\n",
       "    .dataframe thead th {\n",
       "        text-align: right;\n",
       "    }\n",
       "</style>\n",
       "<table border=\"1\" class=\"dataframe\">\n",
       "  <thead>\n",
       "    <tr style=\"text-align: right;\">\n",
       "      <th></th>\n",
       "      <th>Attribute</th>\n",
       "      <th>Setup 1 Accuracy (%)</th>\n",
       "      <th>Setup 2 Accuracy (%)</th>\n",
       "    </tr>\n",
       "  </thead>\n",
       "  <tbody>\n",
       "    <tr>\n",
       "      <th>17</th>\n",
       "      <td>Blonde  Hair</td>\n",
       "      <td>97.02</td>\n",
       "      <td>96.63</td>\n",
       "    </tr>\n",
       "    <tr>\n",
       "      <th>10</th>\n",
       "      <td>Red  Hair</td>\n",
       "      <td>96.33</td>\n",
       "      <td>96.83</td>\n",
       "    </tr>\n",
       "    <tr>\n",
       "      <th>6</th>\n",
       "      <td>Type2</td>\n",
       "      <td>96.22</td>\n",
       "      <td>95.83</td>\n",
       "    </tr>\n",
       "    <tr>\n",
       "      <th>14</th>\n",
       "      <td>Gray  Hair</td>\n",
       "      <td>94.85</td>\n",
       "      <td>95.83</td>\n",
       "    </tr>\n",
       "    <tr>\n",
       "      <th>20</th>\n",
       "      <td>Bald  Hair</td>\n",
       "      <td>94.75</td>\n",
       "      <td>95.70</td>\n",
       "    </tr>\n",
       "  </tbody>\n",
       "</table>\n",
       "</div>"
      ],
      "text/plain": [
       "       Attribute Setup 1 Accuracy (%) Setup 2 Accuracy (%)\n",
       "17  Blonde  Hair                97.02                96.63\n",
       "10     Red  Hair                96.33                96.83\n",
       "6         Type2                 96.22                95.83\n",
       "14    Gray  Hair                94.85                95.83\n",
       "20    Bald  Hair                94.75                95.70"
      ]
     },
     "metadata": {},
     "execution_count": 5
    }
   ],
   "metadata": {
    "execution": {
     "iopub.execute_input": "2021-06-03T01:22:59.055795Z",
     "iopub.status.busy": "2021-06-03T01:22:59.055647Z",
     "iopub.status.idle": "2021-06-03T01:22:59.068670Z",
     "shell.execute_reply": "2021-06-03T01:22:59.068353Z",
     "shell.execute_reply.started": "2021-06-03T01:22:59.055761Z"
    }
   }
  },
  {
   "cell_type": "code",
   "execution_count": 8,
   "source": [
    "attribute_res\n",
    "print(\n",
    "    attribute_res.to_latex(\n",
    "        index=False, caption=\"Table Caption\", label=\"sampletableref\", na_rep=\"\"\n",
    "    )\n",
    ")"
   ],
   "outputs": [
    {
     "output_type": "stream",
     "name": "stdout",
     "text": [
      "\\begin{table}\n",
      "\\centering\n",
      "\\caption{Table Caption}\n",
      "\\label{sampletableref}\n",
      "\\begin{tabular}{lll}\n",
      "\\toprule\n",
      "     Attribute & Setup 1 Accuracy (\\%) & Setup 2 Accuracy (\\%) \\\\\n",
      "\\midrule\n",
      "  Blonde  Hair &                97.02 &                96.63 \\\\\n",
      "     Red  Hair &                96.33 &                96.83 \\\\\n",
      "        Type2  &                96.22 &                95.83 \\\\\n",
      "    Gray  Hair &                94.85 &                95.83 \\\\\n",
      "    Bald  Hair &                94.75 &                95.70 \\\\\n",
      "    Wavy  Hair &                94.32 &                95.50 \\\\\n",
      "   Brown  Hair &                94.25 &                94.83 \\\\\n",
      "        Type6  &                93.77 &                94.77 \\\\\n",
      "  Narrow  Nose &                92.92 &                94.77 \\\\\n",
      "        Type5  &                92.15 &                94.38 \\\\\n",
      "   Curly  Hair &                92.02 &                93.63 \\\\\n",
      "   Small  Lips &                91.92 &                94.98 \\\\\n",
      "        Type3  &                91.72 &                93.77 \\\\\n",
      "        Type1  &                91.31 &                89.51 \\\\\n",
      "Straight  Hair &                91.25 &                94.32 \\\\\n",
      "    Wide  Nose &                90.68 &                91.02 \\\\\n",
      "     Big  Lips &                89.98 &                93.23 \\\\\n",
      "        Type4  &                89.90 &                93.55 \\\\\n",
      "    Other  Eye &                89.88 &                93.75 \\\\\n",
      "   Black  Hair &                89.88 &                91.42 \\\\\n",
      "  Monolid  Eye &                88.27 &                89.73 \\\\\n",
      "\\bottomrule\n",
      "\\end{tabular}\n",
      "\\end{table}\n",
      "\n"
     ]
    }
   ],
   "metadata": {}
  },
  {
   "cell_type": "markdown",
   "source": [
    "## Table 4. Subgroup-based face verification performance of RFW using training setup 1, sorted by descending order of accuracy.\n"
   ],
   "metadata": {
    "execution": {
     "iopub.execute_input": "2021-01-06T21:50:46.488344Z",
     "iopub.status.busy": "2021-01-06T21:50:46.487728Z",
     "iopub.status.idle": "2021-01-06T21:50:46.498170Z",
     "shell.execute_reply": "2021-01-06T21:50:46.495826Z",
     "shell.execute_reply.started": "2021-01-06T21:50:46.488268Z"
    }
   }
  },
  {
   "cell_type": "code",
   "execution_count": 7,
   "source": [
    "ratios = pd.read_parquet(\"fair_face_challenge_evaluation/pair_selection/m43_ratios.pq\")\n",
    "subgroup_codes= pd.read_csv('fair_face_challenge_evaluation/subgroup_feature_codes.csv')\n",
    "\n",
    "a = read_edit(\n",
    "    \"validation/RFW_Subgroup_Based/40K_new/bupt_cos_dist_6k/attribute_rfw_test_results.log\"\n",
    ")\n",
    "\n",
    "b = read_edit(\n",
    "    \"validation/RFW_Subgroup_Based/40K_new/vgg_cos_dist_6k/attribute_rfw_test_results.log\"\n",
    ")\n",
    "df = pd.concat([a, b])\n",
    "\n",
    "df['features'] = df.attr_name.apply(lambda x:x.split('_')[-2]).astype('str')\n",
    "\n",
    "subgroup_codes['features'] = subgroup_codes['features'].astype('str')\n",
    "df = df.merge(subgroup_codes[['skintype',\t'meta_skin','lips',\t'eye',\t'nose',\t'hairtype','features']].drop_duplicates('features'),on='features')\n",
    "ratios['features'] = ratios['index'].astype('str')\n",
    "df = df.merge(ratios,on='features')\n",
    "df = df.rename(columns={\"hairtype\": \"Hair Type\", \"meta_skin\": \"Skin Type\",'lips':'Lips','nose':'Nose','eye':'Eye'})\n",
    "\n",
    "#df[['Acc'\t,'attr_code']].sort_values('Acc',ascending=False)\n",
    "\n",
    "# df[\"Acc\"] = (df[\"Acc\"] * 100).round(2).astype(str) \n",
    "\n",
    "#df = df.pivot(columns=[\"model_name\"], index=[\"features\"])\n",
    "df = df.rename(\n",
    "    columns={\"Balanced_Softmax\": \"Setup 2  Accuracy (%)\", \"r100-arcface-emore\": \"Setup 1 Accuracy (%)\"}\n",
    ")\n",
    "df = df.reset_index()\n",
    "\n",
    "\n",
    "\n",
    "df = df[[\"Skin Type\", \"Lips\", \"Eye\", \"Nose\", \"Hair Type\", \"model_name\", \"Acc\",\"Ratio\"]]\n",
    "df = df.sort_values(by=\"Acc\", ascending=False).reset_index()\n",
    "\n",
    "# df[\"Skin Type\"] = (\n",
    "#     df[\"Skin Type\"]\n",
    "#     .str.replace(\"2\", \"{5,6}\")\n",
    "#     .str.replace(\"1\", \"{3,4}\")\n",
    "#     .str.replace(\"0\", \"{1,2}\")\n",
    "# )\n",
    "df\n",
    "\n",
    "\n",
    "# attrs.columns = attrs.iloc[0].apply(lambda x: (x.split(\"-\")[0]).title())\n",
    "# attrs = attrs.applymap(lambda x: x.split(\"-\")[1].title())\n",
    "# attrs = attrs.rename(columns={\"Hairtype\": \"Hair Type\", \"Skin\": \"Skin Type\"})\n",
    "# df = pd.concat([df, attrs], axis=1)\n",
    "# df = (\n",
    "#     df.drop(columns=[\"attr_name\"])\n",
    "#     .set_index(attrs.columns.to_list())\n",
    "#     .sort_index(level=attrs.columns)\n",
    "# )\n",
    "# # m43 = m43[[\"Skin Type\", \"Lips\", \"Eye\", \"Nose\", \"Hair Type\", \"Setup 1\", \"Setup 2\"]]\n",
    "# df = df.sort_values(by=\"Setup 2\", ascending=False).reset_index()\n",
    "\n",
    "# df[\"Skin Type\"] = (\n",
    "#     df[\"Skin Type\"]\n",
    "#     .str.replace(\"2\", \"{5,6}\")\n",
    "#     .str.replace(\"1\", \"{3,4}\")\n",
    "#     .str.replace(\"0\", \"{1,2}\")\n",
    "# )\n",
    "# df\n",
    "\n",
    "# m43 = m43.drop(columns=[\"Std\", \"len\"])\n",
    "\n",
    "# m43 = m43.sort_values(\"Acc\",ascending=False)\n",
    "# print(\"std:\", np.std(m43.Acc.values,ddof=1) * 100)\n",
    "# print(\"bias:\", (1-m43.Acc.values.min()) / (1-m43.Acc.values.max()))\n",
    "\n",
    "\n",
    "\n",
    "# # m43['attr_code'] = m43.attr_name.apply(lambda x:x.split('_')[-2])\n",
    "# # m43[['Mean_Acc'\t,'attr_code']].sort_values('Mean_Acc',ascending=False)\n",
    "# #m43 = m43.drop(columns=[\"Acc\"])\n",
    "# m43[\"Mean_Acc\"] = (m43[\"Mean_Acc\"] * 100).round(2).astype(str) + \"%\"\n",
    "# m43 = m43.pivot(columns=[\"model_name\"], index=[\"attr_name\"])\n",
    "# m43.columns = m43.columns.droplevel(0)\n",
    "# # TODO: verify w/ Seyma\n",
    "# m43 = m43.rename(\n",
    "#     columns={\"Balanced_Softmax\": \"Setup 2\", \"r100-arcface-emore\": \"Setup 1\"}\n",
    "# )\n",
    "# m43 = m43.reset_index()\n",
    "# attrs = m43[\"attr_name\"].str.split(\"_\", expand=True)\n",
    "# attrs = attrs.iloc[:, :6]\n",
    "\n",
    "\n",
    "# attrs.columns = attrs.iloc[0].apply(lambda x: (x.split(\"-\")[0]).title())\n",
    "# attrs = attrs.drop(columns=[\"Meta\"])\n",
    "# attrs = attrs.applymap(lambda x: x.split(\"-\")[1].title())\n",
    "# attrs = attrs.rename(columns={\"Hairtype\": \"Hair Type\", \"Skin\": \"Skin Type\"})\n",
    "# m43 = pd.concat([m43, attrs], axis=1)\n",
    "# m43 = (\n",
    "#     m43.drop(columns=[\"attr_name\"])\n",
    "#     .set_index(attrs.columns.to_list())\n",
    "#     .sort_index(level=attrs.columns)\n",
    "# )\n",
    "# # m43 = m43[[\"Skin Type\", \"Lips\", \"Eye\", \"Nose\", \"Hair Type\", \"Setup 1\", \"Setup 2\"]]\n",
    "# m43 = m43.sort_values(by=\"Setup 2\", ascending=False).reset_index()\n",
    "\n",
    "# m43[\"Skin Type\"] = (\n",
    "#     m43[\"Skin Type\"]\n",
    "#     .str.replace(\"2\", \"{5,6}\")\n",
    "#     .str.replace(\"1\", \"{3,4}\")\n",
    "#     .str.replace(\"0\", \"{1,2}\")\n",
    "# )\n",
    "# m43"
   ],
   "outputs": [
    {
     "output_type": "error",
     "ename": "ImportError",
     "evalue": "Unable to find a usable engine; tried using: 'pyarrow', 'fastparquet'.\nA suitable version of pyarrow or fastparquet is required for parquet support.\nTrying to import the above resulted in these errors:\n - Missing optional dependency 'pyarrow'. pyarrow is required for parquet support. Use pip or conda to install pyarrow.\n - Missing optional dependency 'fastparquet'. fastparquet is required for parquet support. Use pip or conda to install fastparquet.",
     "traceback": [
      "\u001b[0;31m---------------------------------------------------------------------------\u001b[0m",
      "\u001b[0;31mImportError\u001b[0m                               Traceback (most recent call last)",
      "\u001b[0;32m<ipython-input-7-2d717a2abf77>\u001b[0m in \u001b[0;36m<module>\u001b[0;34m\u001b[0m\n\u001b[0;32m----> 1\u001b[0;31m \u001b[0mratios\u001b[0m \u001b[0;34m=\u001b[0m \u001b[0mpd\u001b[0m\u001b[0;34m.\u001b[0m\u001b[0mread_parquet\u001b[0m\u001b[0;34m(\u001b[0m\u001b[0;34m\"fair_face_challenge_evaluation/pair_selection/m43_ratios.pq\"\u001b[0m\u001b[0;34m)\u001b[0m\u001b[0;34m\u001b[0m\u001b[0;34m\u001b[0m\u001b[0m\n\u001b[0m\u001b[1;32m      2\u001b[0m \u001b[0msubgroup_codes\u001b[0m\u001b[0;34m=\u001b[0m \u001b[0mpd\u001b[0m\u001b[0;34m.\u001b[0m\u001b[0mread_csv\u001b[0m\u001b[0;34m(\u001b[0m\u001b[0;34m'fair_face_challenge_evaluation/subgroup_feature_codes.csv'\u001b[0m\u001b[0;34m)\u001b[0m\u001b[0;34m\u001b[0m\u001b[0;34m\u001b[0m\u001b[0m\n\u001b[1;32m      3\u001b[0m \u001b[0;34m\u001b[0m\u001b[0m\n\u001b[1;32m      4\u001b[0m a = read_edit(\n\u001b[1;32m      5\u001b[0m     \u001b[0;34m\"validation/RFW_Subgroup_Based/40K_new/bupt_cos_dist_6k/attribute_rfw_test_results.log\"\u001b[0m\u001b[0;34m\u001b[0m\u001b[0;34m\u001b[0m\u001b[0m\n",
      "\u001b[0;32m~/anaconda3/envs/pytorch/lib/python3.7/site-packages/pandas/io/parquet.py\u001b[0m in \u001b[0;36mread_parquet\u001b[0;34m(path, engine, columns, use_nullable_dtypes, **kwargs)\u001b[0m\n\u001b[1;32m    456\u001b[0m     \u001b[0mDataFrame\u001b[0m\u001b[0;34m\u001b[0m\u001b[0;34m\u001b[0m\u001b[0m\n\u001b[1;32m    457\u001b[0m     \"\"\"\n\u001b[0;32m--> 458\u001b[0;31m     \u001b[0mimpl\u001b[0m \u001b[0;34m=\u001b[0m \u001b[0mget_engine\u001b[0m\u001b[0;34m(\u001b[0m\u001b[0mengine\u001b[0m\u001b[0;34m)\u001b[0m\u001b[0;34m\u001b[0m\u001b[0;34m\u001b[0m\u001b[0m\n\u001b[0m\u001b[1;32m    459\u001b[0m     return impl.read(\n\u001b[1;32m    460\u001b[0m         \u001b[0mpath\u001b[0m\u001b[0;34m,\u001b[0m \u001b[0mcolumns\u001b[0m\u001b[0;34m=\u001b[0m\u001b[0mcolumns\u001b[0m\u001b[0;34m,\u001b[0m \u001b[0muse_nullable_dtypes\u001b[0m\u001b[0;34m=\u001b[0m\u001b[0muse_nullable_dtypes\u001b[0m\u001b[0;34m,\u001b[0m \u001b[0;34m**\u001b[0m\u001b[0mkwargs\u001b[0m\u001b[0;34m\u001b[0m\u001b[0;34m\u001b[0m\u001b[0m\n",
      "\u001b[0;32m~/anaconda3/envs/pytorch/lib/python3.7/site-packages/pandas/io/parquet.py\u001b[0m in \u001b[0;36mget_engine\u001b[0;34m(engine)\u001b[0m\n\u001b[1;32m     35\u001b[0m \u001b[0;34m\u001b[0m\u001b[0m\n\u001b[1;32m     36\u001b[0m         raise ImportError(\n\u001b[0;32m---> 37\u001b[0;31m             \u001b[0;34m\"Unable to find a usable engine; \"\u001b[0m\u001b[0;34m\u001b[0m\u001b[0;34m\u001b[0m\u001b[0m\n\u001b[0m\u001b[1;32m     38\u001b[0m             \u001b[0;34m\"tried using: 'pyarrow', 'fastparquet'.\\n\"\u001b[0m\u001b[0;34m\u001b[0m\u001b[0;34m\u001b[0m\u001b[0m\n\u001b[1;32m     39\u001b[0m             \u001b[0;34m\"A suitable version of \"\u001b[0m\u001b[0;34m\u001b[0m\u001b[0;34m\u001b[0m\u001b[0m\n",
      "\u001b[0;31mImportError\u001b[0m: Unable to find a usable engine; tried using: 'pyarrow', 'fastparquet'.\nA suitable version of pyarrow or fastparquet is required for parquet support.\nTrying to import the above resulted in these errors:\n - Missing optional dependency 'pyarrow'. pyarrow is required for parquet support. Use pip or conda to install pyarrow.\n - Missing optional dependency 'fastparquet'. fastparquet is required for parquet support. Use pip or conda to install fastparquet."
     ]
    }
   ],
   "metadata": {
    "execution": {
     "iopub.execute_input": "2021-06-02T22:22:52.726894Z",
     "iopub.status.busy": "2021-06-02T22:22:52.726260Z",
     "iopub.status.idle": "2021-06-02T22:22:52.767855Z",
     "shell.execute_reply": "2021-06-02T22:22:52.767407Z",
     "shell.execute_reply.started": "2021-06-02T22:22:52.726813Z"
    }
   }
  },
  {
   "cell_type": "code",
   "execution_count": null,
   "source": [
    "half_ix = int(m43.shape[0] / 2 + 0.5)\n",
    "m43 = pd.concat(\n",
    "    [m43.iloc[:half_ix], m43.iloc[half_ix:].reset_index(drop=True)],\n",
    "    axis=1,\n",
    "    ignore_index=False,\n",
    ")\n",
    "print(\n",
    "    m43.to_latex(\n",
    "        index=False,\n",
    "        na_rep=\"\",\n",
    "    )\n",
    ")"
   ],
   "outputs": [],
   "metadata": {
    "execution": {
     "iopub.execute_input": "2021-06-03T00:23:44.753969Z",
     "iopub.status.busy": "2021-06-03T00:23:44.753304Z",
     "iopub.status.idle": "2021-06-03T00:23:44.799282Z",
     "shell.execute_reply": "2021-06-03T00:23:44.798260Z",
     "shell.execute_reply.started": "2021-06-03T00:23:44.753888Z"
    }
   }
  },
  {
   "cell_type": "code",
   "execution_count": null,
   "source": [
    "np.asarray(\n",
    "    [\n",
    "        m43[m43[\"Skin Type\"] == \"0\"][\"Setup 2\"].mean(),\n",
    "        m43[m43[\"Skin Type\"] == \"1\"][\"Setup 2\"].mean(),\n",
    "        m43[m43[\"Skin Type\"] == \"1\"][\"Setup 2\"].mean(),\n",
    "    ]\n",
    ").std() * 100"
   ],
   "outputs": [],
   "metadata": {
    "execution": {
     "iopub.execute_input": "2021-06-02T22:15:47.990201Z",
     "iopub.status.busy": "2021-06-02T22:15:47.989564Z",
     "iopub.status.idle": "2021-06-02T22:15:47.997821Z",
     "shell.execute_reply": "2021-06-02T22:15:47.997437Z",
     "shell.execute_reply.started": "2021-06-02T22:15:47.990122Z"
    }
   }
  },
  {
   "cell_type": "code",
   "execution_count": null,
   "source": [
    "m43[m43.Skin == \"[1,2]\"].Acc.values.astype(float).mean()"
   ],
   "outputs": [],
   "metadata": {
    "execution": {
     "iopub.execute_input": "2021-06-02T22:15:58.175486Z",
     "iopub.status.busy": "2021-06-02T22:15:58.175309Z",
     "iopub.status.idle": "2021-06-02T22:15:58.219787Z",
     "shell.execute_reply": "2021-06-02T22:15:58.219301Z",
     "shell.execute_reply.started": "2021-06-02T22:15:58.175470Z"
    }
   }
  },
  {
   "cell_type": "code",
   "execution_count": null,
   "source": [
    "m43.group = m43.group.apply(lambda x: Path(x).stem)\n",
    "\n",
    "m43_features = m43.group.str.replace(\"meta_skin\", \"skin\").str.split(\"_\", expand=True)\n",
    "m43_features = m43_features.iloc[:, :-3]\n",
    "m43_features = m43_features.applymap(lambda x: x.split(\"-\")[1])\n",
    "m43_features = m43_features.select_dtypes([\"object\"]).apply(\n",
    "    pd.Series.astype, dtype=\"category\"\n",
    ")\n",
    "m43 = pd.concat([m43_features, m43.iloc[:, 1:]], axis=1)\n",
    "\n",
    "m43[\"Acc\"] = m43[\"Acc\"].apply(lambda x: f\"{100*x:.2f}\")\n",
    "feature_cols = [\"Skin\", \"Lips\", \"Eye\", \"Nose\", \"Hair Type\"]\n",
    "m43.columns = feature_cols + [\"Acc\"]\n",
    "m43 = m43.drop_duplicates(subset=feature_cols)"
   ],
   "outputs": [],
   "metadata": {
    "execution": {
     "iopub.execute_input": "2021-06-02T22:15:59.620930Z",
     "iopub.status.busy": "2021-06-02T22:15:59.620273Z",
     "iopub.status.idle": "2021-06-02T22:15:59.655028Z",
     "shell.execute_reply": "2021-06-02T22:15:59.652408Z",
     "shell.execute_reply.started": "2021-06-02T22:15:59.620847Z"
    }
   }
  },
  {
   "cell_type": "code",
   "execution_count": null,
   "source": [
    "ratios = pd.read_parquet(\"temp/m43_ratios.pq\")"
   ],
   "outputs": [],
   "metadata": {
    "execution": {
     "iopub.execute_input": "2021-01-26T01:11:20.234749Z",
     "iopub.status.busy": "2021-01-26T01:11:20.234568Z",
     "iopub.status.idle": "2021-01-26T01:11:20.344766Z",
     "shell.execute_reply": "2021-01-26T01:11:20.343948Z",
     "shell.execute_reply.started": "2021-01-26T01:11:20.234727Z"
    }
   }
  },
  {
   "cell_type": "code",
   "execution_count": null,
   "source": [
    "ratios = ratios.rename(columns={\"meta_skin\": \"skin\", \"hairtype\": \"Hair Type\"})\n",
    "ratios[\"skin\"] = ratios[\"skin\"].astype(str)\n",
    "ratios.columns = ratios.columns.map(lambda x: x.title())\n",
    "ratios[\"Ratio\"] = ratios[\"Ratio\"].apply(lambda x: f\"{100*x:.2f}\")"
   ],
   "outputs": [],
   "metadata": {
    "execution": {
     "iopub.execute_input": "2021-01-26T01:11:21.058974Z",
     "iopub.status.busy": "2021-01-26T01:11:21.058362Z",
     "iopub.status.idle": "2021-01-26T01:11:21.072362Z",
     "shell.execute_reply": "2021-01-26T01:11:21.071918Z",
     "shell.execute_reply.started": "2021-01-26T01:11:21.058896Z"
    }
   }
  },
  {
   "cell_type": "code",
   "execution_count": null,
   "source": [
    "m43 = m43.merge(ratios, on=feature_cols, how=\"left\", validate=\"1:1\")"
   ],
   "outputs": [],
   "metadata": {
    "execution": {
     "iopub.execute_input": "2021-01-26T01:11:22.203079Z",
     "iopub.status.busy": "2021-01-26T01:11:22.202453Z",
     "iopub.status.idle": "2021-01-26T01:11:22.215326Z",
     "shell.execute_reply": "2021-01-26T01:11:22.215005Z",
     "shell.execute_reply.started": "2021-01-26T01:11:22.202998Z"
    }
   }
  },
  {
   "cell_type": "code",
   "execution_count": null,
   "source": [
    "sum(ratios.Ratio.astype(np.float)), sum(m43.Ratio.astype(np.float))"
   ],
   "outputs": [],
   "metadata": {
    "execution": {
     "iopub.execute_input": "2021-01-26T01:11:23.223375Z",
     "iopub.status.busy": "2021-01-26T01:11:23.223231Z",
     "iopub.status.idle": "2021-01-26T01:11:23.227013Z",
     "shell.execute_reply": "2021-01-26T01:11:23.226658Z",
     "shell.execute_reply.started": "2021-01-26T01:11:23.223358Z"
    }
   }
  },
  {
   "cell_type": "code",
   "execution_count": null,
   "source": [
    "m43 = m43.applymap(lambda x: x.title())\n",
    "m43[\"Eye\"] = m43[\"Eye\"].replace({\"Narrow\": \"Monolid\", \"Normal\": \"Other\"})\n",
    "# m43[feature_cols] = m43[feature_cols].columns.map(lambda x: x[0]) + m43[feature_cols].applymap(lambda x: x[0])\n",
    "m43[feature_cols] = m43[feature_cols].applymap(lambda x: x[0])\n",
    "m43[\"Skin\"] = (\n",
    "    m43[\"Skin\"].str.replace(\"0\", \"[1,2]\").replace(\"1\", \"[3,4]\").replace(\"2\", \"[5,6]\")\n",
    ")"
   ],
   "outputs": [],
   "metadata": {
    "execution": {
     "iopub.execute_input": "2021-01-26T01:11:24.856879Z",
     "iopub.status.busy": "2021-01-26T01:11:24.856738Z",
     "iopub.status.idle": "2021-01-26T01:11:24.864139Z",
     "shell.execute_reply": "2021-01-26T01:11:24.863713Z",
     "shell.execute_reply.started": "2021-01-26T01:11:24.856863Z"
    }
   }
  },
  {
   "cell_type": "code",
   "execution_count": null,
   "source": [
    "df = m43.copy()\n",
    "df = df.rename(columns={\"Acc\": \"Accuracy (%)\", \"Ratio\": \"Ratio (%)\"})\n",
    "\n",
    "df = df[\n",
    "    [\n",
    "        \"Skin\",\n",
    "        \"Lips\",\n",
    "        \"Eye\",\n",
    "        \"Nose\",\n",
    "        \"Hair Type\",\n",
    "        \"Ratio (%)\",\n",
    "        \"Accuracy (%)\",\n",
    "    ]\n",
    "]"
   ],
   "outputs": [],
   "metadata": {
    "execution": {
     "iopub.execute_input": "2021-01-26T01:11:26.276557Z",
     "iopub.status.busy": "2021-01-26T01:11:26.276409Z",
     "iopub.status.idle": "2021-01-26T01:11:26.280534Z",
     "shell.execute_reply": "2021-01-26T01:11:26.279915Z",
     "shell.execute_reply.started": "2021-01-26T01:11:26.276542Z"
    }
   }
  },
  {
   "cell_type": "code",
   "execution_count": null,
   "source": [
    "def get_col_index(col):\n",
    "    rotated_col = \"\\rot{\" + col + \"}\"\n",
    "    if col in feature_cols:\n",
    "        return (\"Feature\", rotated_col)\n",
    "    return (\" \", rotated_col)\n",
    "\n",
    "\n",
    "def rot_cols(col):\n",
    "    return \"\\rot{\" + col + \"}\"\n",
    "\n",
    "\n",
    "# multi_index = pd.MultiIndex.from_tuples(map(get_col_index, df.columns))\n",
    "# df.columns = multi_index\n",
    "cols = list(map(rot_cols, df.columns))\n",
    "df.columns = cols\n",
    "# df = df.sort_values(by=df.columns.tolist())"
   ],
   "outputs": [],
   "metadata": {
    "execution": {
     "iopub.execute_input": "2021-01-26T01:11:27.778691Z",
     "iopub.status.busy": "2021-01-26T01:11:27.778562Z",
     "iopub.status.idle": "2021-01-26T01:11:27.781829Z",
     "shell.execute_reply": "2021-01-26T01:11:27.781433Z",
     "shell.execute_reply.started": "2021-01-26T01:11:27.778676Z"
    }
   }
  },
  {
   "cell_type": "code",
   "execution_count": null,
   "source": [
    "df[df[\"\\rot{Skin}\"] == \"[1,2]\"][\"\\rot{Accuracy (%)}\"].values.astype(\"float\").mean()"
   ],
   "outputs": [],
   "metadata": {
    "execution": {
     "iopub.execute_input": "2021-01-24T11:24:14.090559Z",
     "iopub.status.busy": "2021-01-24T11:24:14.090418Z",
     "iopub.status.idle": "2021-01-24T11:24:14.094101Z",
     "shell.execute_reply": "2021-01-24T11:24:14.093759Z",
     "shell.execute_reply.started": "2021-01-24T11:24:14.090544Z"
    }
   }
  },
  {
   "cell_type": "code",
   "execution_count": null,
   "source": [
    "half_ix = math.ceil(df.shape[0] / 2)\n",
    "\n",
    "\n",
    "df = pd.concat(\n",
    "    [\n",
    "        df.iloc[:half_ix].reset_index(drop=True),\n",
    "        df.iloc[half_ix:].reset_index(drop=True),\n",
    "    ],\n",
    "    axis=1,\n",
    "    ignore_index=True,\n",
    ")\n",
    "\n",
    "# df.columns = pd.MultiIndex.from_tuples(multi_index.to_list()*2)\n",
    "df.columns = cols * 2"
   ],
   "outputs": [],
   "metadata": {
    "execution": {
     "iopub.execute_input": "2021-01-26T01:11:28.994962Z",
     "iopub.status.busy": "2021-01-26T01:11:28.994831Z",
     "iopub.status.idle": "2021-01-26T01:11:28.998592Z",
     "shell.execute_reply": "2021-01-26T01:11:28.998108Z",
     "shell.execute_reply.started": "2021-01-26T01:11:28.994947Z"
    }
   }
  },
  {
   "cell_type": "code",
   "execution_count": null,
   "source": [
    "# single_col_widths = [5] + [1] * 4 + [6, 6]\n",
    "# single_col_widths = list(map(lambda x: \"p{\" + str(x) + \"mm}\", single_col_widths))\n",
    "# single_col_widths = \"\".join(single_col_widths)\n",
    "# multi_col_format = \"|\".join([single_col_widths] * 2)\n",
    "multi_col_format = \"c\" * len(df.columns)\n",
    "with pd.option_context(\"max_colwidth\", 1000):\n",
    "    latex = (\n",
    "        df.to_latex(\n",
    "            index=False,\n",
    "            header=True,\n",
    "            caption=\"Table Caption\",\n",
    "            label=\"sampletableref\",\n",
    "            #             multicolumn=True,\n",
    "            na_rep=\"\",\n",
    "            column_format=multi_col_format,\n",
    "            #         column_format='p{3.5cm}|p{5cm}|p{3.5cm}|p{5cm}',\n",
    "            escape=False,\n",
    "        )\n",
    "        #     .replace(\"\\$|\\$\", \"$|$\")\n",
    "        #     .replace(\"\\\\textbackslash \", \"\\\\\")\n",
    "        #     .replace(\"\\{\", \"{\")\n",
    "        #     .replace(\"\\}\", \"}\")\n",
    "        #         .replace('[(\\d),(\\d)]','\\\\left[\\1,\\2\\\\right]',regex=True)\n",
    "        #         .replace('\\textbackslash left','\\left[')\n",
    "    )\n",
    "import re\n",
    "\n",
    "latex = re.sub(\"\\[(\\d,\\d)\\]\", r\"$\\{\\1\\}$\", latex)\n",
    "# latex = re.sub(\"\\|\", r\"\\\\big|\", latex)\n",
    "latex = re.sub(\"%\", r\"\\%\", latex)\n",
    "latex = latex.replace(\n",
    "    r\"\\label{sampletableref}\",\n",
    "    r\"\\label{sampletableref} \"\n",
    "    + \"\\n\"\n",
    "    + r\"\\setlength\\tabcolsep{2pt} \"\n",
    "    + \"\\n\"\n",
    "    + r\"\\resizebox{\\columnwidth}{!}{\",\n",
    ")\n",
    "latex = latex.replace(r\"\\end{tabular}\", r\"\\end{tabular}}\")\n",
    "\n",
    "%clip latex"
   ],
   "outputs": [],
   "metadata": {
    "execution": {
     "iopub.execute_input": "2021-01-26T01:14:43.767421Z",
     "iopub.status.busy": "2021-01-26T01:14:43.766783Z",
     "iopub.status.idle": "2021-01-26T01:14:43.786496Z",
     "shell.execute_reply": "2021-01-26T01:14:43.785920Z",
     "shell.execute_reply.started": "2021-01-26T01:14:43.767340Z"
    }
   }
  },
  {
   "cell_type": "code",
   "execution_count": null,
   "source": [
    "\\begin{table}\n",
    "\\centering\n",
    "\\caption{Table Caption}\n",
    "\\label{sampletableref} \n",
    "\\setlength\\tabcolsep{2pt} \n",
    "\\resizebox{\\columnwidth}{!}{\n",
    "\\begin{tabular}{cccccccccccccc}\n",
    "\\toprule\n",
    "\\rot{Skin} & \\rot{Lips} & \\rot{Eye} & \\rot{Nose} & \\rot{Hair Type} & \\rot{Ratio (\\%)} & \\rot{Accuracy (\\%)} & \\rot{Skin} & \\rot{Lips} & \\rot{Eye} & \\rot{Nose} & \\rot{Hair Type} & \\rot{Ratio (\\%)} & \\rot{Accuracy (\\%)} \\\\\n",
    "\\midrule\n",
    "     $[1,2]$ &          S &         O &          N &               S &            3.82 &              96.53 &      $[3,4]$ &          B &         M &          W &               S &            1.55 &              91.63 \\\\\n",
    "     $[3,4]$ &          S &         O &          N &               S &            7.43 &              96.45 &      $[1,2]$ &          S &         O &          N &               B &            0.28 &              91.29 \\\\\n",
    "     $[3,4]$ &          S &         O &          N &               W &            3.67 &              96.11 &      $[5,6]$ &          B &         O &          N &               C &            1.97 &              91.23 \\\\\n",
    "     $[1,2]$ &          S &         O &          W &               S &            3.03 &              95.63 &      $[3,4]$ &          S &         O &          W &               B &            1.68 &              91.01 \\\\\n",
    "     $[1,2]$ &          S &         O &          N &               W &            1.64 &              95.62 &      $[1,2]$ &          B &         O &          N &               W &            0.27 &              90.74 \\\\\n",
    "     $[1,2]$ &          B &         O &          N &               S &            0.70 &              95.59 &      $[3,4]$ &          S &         M &          W &               W &            0.96 &              90.17 \\\\\n",
    "     $[3,4]$ &          B &         O &          N &               S &            3.59 &              95.28 &      $[1,2]$ &          S &         O &          W &               B &            0.46 &              89.78 \\\\\n",
    "     $[3,4]$ &          B &         O &          W &               S &            4.47 &              94.98 &      $[5,6]$ &          S &         O &          N &               C &            0.81 &              89.50 \\\\\n",
    "     $[3,4]$ &          S &         O &          W &               W &            2.95 &              94.92 &      $[3,4]$ &          S &         M &          N &               W &            1.20 &              89.35 \\\\\n",
    "     $[3,4]$ &          S &         O &          W &               S &            8.83 &              94.92 &      $[5,6]$ &          B &         O &          W &               C &           13.09 &              89.18 \\\\\n",
    "     $[1,2]$ &          B &         O &          W &               S &            0.33 &              94.87 &      $[3,4]$ &          B &         O &          W &               B &            0.80 &              86.02 \\\\\n",
    "     $[1,2]$ &          S &         O &          W &               W &            0.72 &              94.56 &      $[5,6]$ &          S &         O &          W &               B &            0.99 &              85.90 \\\\\n",
    "     $[3,4]$ &          S &         O &          W &               C &            0.51 &              93.89 &      $[3,4]$ &          B &         O &          W &               C &            0.46 &              85.38 \\\\\n",
    "     $[3,4]$ &          B &         O &          W &               W &            1.90 &              93.41 &      $[3,4]$ &          S &         M &          N &               B &            0.32 &              84.10 \\\\\n",
    "     $[3,4]$ &          B &         O &          N &               W &            1.94 &              93.10 &      $[5,6]$ &          S &         O &          N &               B &            0.30 &              82.81 \\\\\n",
    "     $[3,4]$ &          S &         O &          N &               B &            0.68 &              92.50 &      $[3,4]$ &          S &         M &          W &               B &            0.52 &              82.67 \\\\\n",
    "     $[3,4]$ &          S &         O &          N &               C &            0.31 &              92.45 &      $[3,4]$ &          B &         M &          N &               W &            0.43 &              82.04 \\\\\n",
    "     $[5,6]$ &          S &         O &          W &               C &            2.81 &              92.23 &      $[5,6]$ &          B &         O &          N &               B &            0.53 &              81.24 \\\\\n",
    "     $[3,4]$ &          S &         M &          W &               S &            6.59 &              91.93 &      $[1,2]$ &          S &         M &          N &               S &            0.47 &              81.04 \\\\\n",
    "     $[3,4]$ &          B &         M &          N &               S &            1.81 &              91.78 &      $[3,4]$ &          B &         M &          W &               W &            0.27 &              79.47 \\\\\n",
    "     $[5,6]$ &          B &         O &          W &               B &            3.62 &              91.74 &      $[5,6]$ &          B &         O &          W &               W &            0.32 &              78.94 \\\\\n",
    "     $[3,4]$ &          S &         M &          N &               S &            7.95 &              91.70 &            &            &           &            &                 &                 &                    \\\\\n",
    "\\bottomrule\n",
    "\\end{tabular}}\n",
    "\\end{table}"
   ],
   "outputs": [],
   "metadata": {
    "execution": {
     "iopub.execute_input": "2021-01-24T11:24:16.747927Z",
     "iopub.status.busy": "2021-01-24T11:24:16.747766Z",
     "iopub.status.idle": "2021-01-24T11:24:16.759697Z",
     "shell.execute_reply": "2021-01-24T11:24:16.759139Z",
     "shell.execute_reply.started": "2021-01-24T11:24:16.747909Z"
    }
   }
  },
  {
   "cell_type": "markdown",
   "source": [
    "# RESIZE\n",
    "\n",
    "\\resizebox{\\columnwidth}{!}{\n",
    "\\begin{tabular}{p{5mm}p{1mm}p{1mm}p{1mm}p{1mm}p{7mm}p{5mm}p{1mm}p{1mm}p{1mm}p{1mm}p{7mm}}\n",
    "\n",
    "\n",
    "--\n",
    "\n",
    "\\hline\n",
    "\\multicolumn{6}{l}{Bias}     &   8.683  &   \\multicolumn{6}{l}{STD}    &   2.223 \\\\"
   ],
   "metadata": {}
  },
  {
   "cell_type": "code",
   "execution_count": null,
   "source": [
    "df.columns"
   ],
   "outputs": [],
   "metadata": {
    "execution": {
     "iopub.execute_input": "2021-01-12T23:41:37.694807Z",
     "iopub.status.busy": "2021-01-12T23:41:37.694580Z",
     "iopub.status.idle": "2021-01-12T23:41:37.699328Z",
     "shell.execute_reply": "2021-01-12T23:41:37.698946Z",
     "shell.execute_reply.started": "2021-01-12T23:41:37.694790Z"
    }
   }
  },
  {
   "cell_type": "code",
   "execution_count": null,
   "source": [
    "t = m43.melt(id_vars=feature_cols, var_name=\"Metric\").pivot_table(\n",
    "    index=[\"Metric\"], columns=feature_cols, aggfunc=\"first\"\n",
    ")\n",
    "t.columns = t.columns.droplevel(0)\n",
    "print(t[\"1\"].to_latex())\n",
    "print(t[\"3\"].to_latex())\n",
    "print(t[\"2\"][\"Small\"].to_latex())\n",
    "print(t[\"2\"][\"Big\"].to_latex())"
   ],
   "outputs": [],
   "metadata": {
    "execution": {
     "iopub.execute_input": "2021-01-12T23:41:45.469502Z",
     "iopub.status.busy": "2021-01-12T23:41:45.469276Z",
     "iopub.status.idle": "2021-01-12T23:41:45.479909Z",
     "shell.execute_reply": "2021-01-12T23:41:45.478953Z",
     "shell.execute_reply.started": "2021-01-12T23:41:45.469486Z"
    }
   }
  },
  {
   "cell_type": "code",
   "execution_count": null,
   "source": [],
   "outputs": [],
   "metadata": {}
  },
  {
   "cell_type": "code",
   "execution_count": null,
   "source": [
    "types = [f\"S{i}{i+1}\" for i in range(1, 7, 2)]\n",
    "noses = [\"NN\", \"NW\"]\n",
    "lips = [\"BL\", \"SL\"]\n",
    "eyes = [\"NN\", \"WE\"]\n",
    "hairtypes = [\"HB\", \"HW\", \"HC\", \"HS\"]\n",
    "pd.MultiIndex.from_product([types, noses, lips, eyes]).shape\n",
    "df = (\n",
    "    pd.DataFrame(\n",
    "        np.ones(24).astype(float).reshape(1, 24),\n",
    "        columns=pd.MultiIndex.from_product([types, noses, lips, eyes]),\n",
    "    )\n",
    "    .round(2)\n",
    "    .T\n",
    ")\n",
    "# print(df.to_latex())\n",
    "df.index = df.index.map(lambda x: \"/\".join(x))\n",
    "# print(df.T.to_latex())\n",
    "df.columns = [\"Acc\"]\n",
    "df = df.reset_index().rename(columns={\"index\": \"Feature\"})\n",
    "df.shape\n",
    "df = pd.concat(\n",
    "    [df.iloc[:12].reset_index(drop=True), df.iloc[12:].reset_index(drop=True)],\n",
    "    axis=1,\n",
    "    ignore_index=True,\n",
    ")\n",
    "df.columns = [\"Feature\", \"Acc\", \"Feature\", \"Acc\"]"
   ],
   "outputs": [],
   "metadata": {
    "execution": {
     "iopub.execute_input": "2021-01-12T23:41:53.405535Z",
     "iopub.status.busy": "2021-01-12T23:41:53.405300Z",
     "iopub.status.idle": "2021-01-12T23:41:53.426562Z",
     "shell.execute_reply": "2021-01-12T23:41:53.426212Z",
     "shell.execute_reply.started": "2021-01-12T23:41:53.405518Z"
    }
   }
  },
  {
   "cell_type": "code",
   "execution_count": null,
   "source": [
    "df"
   ],
   "outputs": [],
   "metadata": {
    "execution": {
     "iopub.execute_input": "2021-01-12T23:41:57.130231Z",
     "iopub.status.busy": "2021-01-12T23:41:57.129976Z",
     "iopub.status.idle": "2021-01-12T23:41:57.136177Z",
     "shell.execute_reply": "2021-01-12T23:41:57.135827Z",
     "shell.execute_reply.started": "2021-01-12T23:41:57.130214Z"
    }
   }
  },
  {
   "cell_type": "code",
   "execution_count": null,
   "source": [
    "data = pd.read_csv('/mnt/SSD/FacialPhenotypes/test_assets/pairs/AttributeCrossPairs/vgg_covariance_matrix_results.log',header=None,sep='\\s+',names=['p1','p2','acc','tpr', 'fpr', 'fnr', 'tnr'])\n",
    "print(data.shape)\n",
    "import math\n",
    "data['fpr_log'] = data['fpr'].apply(lambda x:  0 if x == 0 else  math.log10(x) )\n",
    "data"
   ],
   "outputs": [],
   "metadata": {}
  },
  {
   "cell_type": "code",
   "execution_count": null,
   "source": [
    "data_sym = pd.concat([data[['p1','p2','fpr_log']],data[['p2','p1','fpr_log']].rename(columns={'p2':'p1','p1':'p2'})],axis=0, ignore_index=True)\n",
    "data_sym.head()"
   ],
   "outputs": [],
   "metadata": {}
  },
  {
   "cell_type": "code",
   "execution_count": null,
   "source": [
    "renaming = {'Monolid':'monolid eye',\n",
    " 'bald':'bald',\n",
    " 'big' : 'full lips',\n",
    " 'black' :'black hair',\n",
    " 'blonde':'blonde hair',\n",
    " 'brown':'brown hair',\n",
    " 'curly':'curly hair',\n",
    " 'gray':'gray hair',\n",
    " 'red':'red hair',\n",
    " 'small':'small lips',\n",
    " 'straight':'straight hair',\n",
    " 'type1': 'type 1 skin',\n",
    " 'type2':'type 2 skin',\n",
    " 'type3':'type 3 skin',\n",
    " 'type4':'type 4 skin',\n",
    " 'type5':'type 5 skin',\n",
    " 'type6':'type 6 skin',\n",
    " 'wavy':'wavy hair',\n",
    " 'Other': 'other eye',\n",
    " 'narrow': 'narrow nose',\n",
    " 'wide':'wide nose'\n",
    " }"
   ],
   "outputs": [],
   "metadata": {}
  },
  {
   "cell_type": "code",
   "execution_count": null,
   "source": [
    "data_sym['p1'] = data_sym['p1'].replace(renaming).str.title()\n",
    "data_sym['p2'] = data_sym['p2'].replace(renaming).str.title()"
   ],
   "outputs": [],
   "metadata": {}
  },
  {
   "cell_type": "code",
   "execution_count": null,
   "source": [
    "def triu_anti(m, k=0):\n",
    "    m = np.asanyarray(m)\n",
    "    mask = np.fliplr(np.tri(*m.shape[-2:], k=k-1, dtype=bool))\n",
    "    return np.where(mask, np.zeros(1, m.dtype), m)\n"
   ],
   "outputs": [],
   "metadata": {}
  },
  {
   "cell_type": "code",
   "execution_count": null,
   "source": [
    "order = [\n",
    "'Type 6 Skin',\n",
    "'Type 5 Skin',\n",
    "'Type 4 Skin',\n",
    "'Type 3 Skin',\n",
    "'Type 2 Skin',\n",
    "'Monolid Eye',\n",
    "'Other Eye',\n",
    "'Narrow Nose',\n",
    "'Wide Nose', \n",
    "'Small Lips',\n",
    "'Full Lips',\n",
    "'Wavy Hair', \n",
    "'Straight Hair',\n",
    "'Gray Hair',\n",
    "'Curly Hair',\n",
    "'Brown Hair',\n",
    "'Blonde Hair',\n",
    "'Black Hair',\n",
    "'Bald',\n",
    "]"
   ],
   "outputs": [],
   "metadata": {}
  },
  {
   "cell_type": "code",
   "execution_count": null,
   "source": [
    "pxd = data_sym.pivot_table(index='p2',columns='p1',values='fpr_log')\n",
    "pxd = pxd.drop(index=['Type 1 Skin','Red Hair'],columns=['Type 1 Skin','Red Hair'])\n",
    "pxd = pxd.reindex(order[::-1])\n",
    "pxd = pxd[order]\n",
    "pxd.index.name = 'Phenotype Attributes'\n",
    "pxd.columns.name = 'Phenotype Attributes'\n",
    "trilmask = (triu_anti(np.ones(pxd.shape,dtype=int),k=1) == 1)\n",
    "pxd[trilmask] = np.nan\n",
    "# pxd = pxd.apply(np.log10)"
   ],
   "outputs": [],
   "metadata": {}
  },
  {
   "cell_type": "code",
   "execution_count": null,
   "source": [
    "\n",
    "\n",
    "\n"
   ],
   "outputs": [],
   "metadata": {}
  },
  {
   "cell_type": "code",
   "execution_count": null,
   "source": [
    "plt.style.use([\"science\", \"ieee\", \"vibrant\", \"grid\"])\n",
    "plt.rcParams[\"grid.alpha\"] = 0.35\n",
    "plt.rcParams[\"grid.color\"] = \"#000000\"\n",
    "plt.rcParams[\"xtick.color\"] = \"#000000\"\n",
    "\n",
    "\n",
    "fig, ax = plt.subplots(figsize=(7, 5.25))\n",
    "ax.autoscale(tight=True)\n",
    "\n",
    "im = ax.imshow(pxd, cmap='RdBu_r')\n",
    "\n",
    "# We want to show all ticks...\n",
    "ax.set_xticks(np.arange(len(pxd.columns)))\n",
    "ax.set_yticks(np.arange(len(pxd.index)))\n",
    "# ... and label them with the respective list entries\n",
    "ax.set_xticklabels(pxd.columns)\n",
    "ax.set_yticklabels(pxd.index)\n",
    "\n",
    "# Rotate the tick labels and set their alignment.\n",
    "plt.setp(ax.get_xticklabels(), rotation=45, ha=\"right\",\n",
    "         rotation_mode=\"anchor\")\n",
    "\n",
    "vals = pxd.values\n",
    "# Loop over data dimensions and create text annotations.\n",
    "for i in range(vals.shape[0]):\n",
    "    for j in range(vals.shape[1]):\n",
    "        text_color = 'w'\n",
    "        if -1.93 > vals[i, j] > -2.34:\n",
    "            text_color = 'gray'\n",
    "        text = ax.text(j, i,\"{:.2f}\".format(vals[i, j]),\n",
    "                       ha=\"center\", va=\"center\", color=text_color,fontsize='x-small')\n",
    "\n",
    "# ax.set_title(\"asdasdas\")\n",
    "fig.tight_layout()\n",
    "\n",
    "ax.grid(False)\n",
    "ax.set_axisbelow(True)\n",
    "ax.tick_params(which='minor', width=0, direction = 'out')\n",
    "ax.tick_params(which='major', direction = 'out')\n",
    "\n",
    "ax.spines['top'].set_visible(False)\n",
    "ax.spines['right'].set_visible(False)\n",
    "ax.yaxis.set_ticks_position('left')\n",
    "ax.xaxis.set_ticks_position('bottom')\n",
    "fig.savefig('matched-covariance.pdf',dpi=300)\n",
    "fig.savefig('matched-covariance.svg',dpi=300)\n",
    "plt.show()"
   ],
   "outputs": [],
   "metadata": {}
  },
  {
   "cell_type": "code",
   "execution_count": null,
   "source": [
    "import plotly.express as px\n",
    "fig = px.imshow(pxd, color_continuous_scale='RdBu_r')\n",
    "fig.update_layout(width=800, height=800)\n",
    "fig.update_layout(paper_bgcolor='rgba(0,0,0,0)',\n",
    "    plot_bgcolor='rgba(0,0,0,0)',template=\"simple_white\")\n",
    "fig.show()"
   ],
   "outputs": [],
   "metadata": {}
  },
  {
   "cell_type": "code",
   "execution_count": null,
   "source": [
    "arr =data[['p1','p2','fpr_log']].values\n",
    "from collections import Counter\n",
    "\n",
    "all_frames = [] \n",
    "for i in range(0,data.shape[0],21):\n",
    "    new_frame = []\n",
    "    single_attr = arr[i:i+22]\n",
    "    a = list(single_attr[:,0])+list(single_attr[:,1])\n",
    "    main = Counter(a)\n",
    "    main = main.most_common(1)[0][0]\n",
    "\n",
    "    for ii in single_attr:\n",
    " \n",
    "        if ii[0]==main:\n",
    "            new_frame.append([main,ii[1],ii[2]])\n",
    "        elif ii[1]==main:\n",
    "            new_frame.append([main,ii[0],ii[2]])\n",
    "    all_frames.append(pd.DataFrame(new_frame))\n",
    "    \n"
   ],
   "outputs": [],
   "metadata": {}
  },
  {
   "cell_type": "code",
   "execution_count": null,
   "source": [
    "all_frames = pd.concat(all_frames)\n",
    "all_frames = all_frames.rename(columns={0:'p1',1:'p2',2:'fmr'})\n",
    "all_frames"
   ],
   "outputs": [],
   "metadata": {}
  },
  {
   "cell_type": "code",
   "execution_count": null,
   "source": [
    "'p'\n",
    "import plotly.graph_objects as go\n",
    "\n",
    "trace = go.Heatmap(\n",
    "   x = all_frames.p1,\n",
    "   y = all_frames.p2,\n",
    "   z = all_frames.fmr,\n",
    "   type = 'heatmap',\n",
    "   colorscale = 'Viridis'\n",
    ")\n",
    "dat = [trace]\n",
    "fig = go.Figure(data = dat)\n",
    "\n",
    "fig.show()"
   ],
   "outputs": [],
   "metadata": {}
  },
  {
   "cell_type": "code",
   "execution_count": null,
   "source": [
    "21*21\n"
   ],
   "outputs": [],
   "metadata": {}
  },
  {
   "cell_type": "code",
   "execution_count": null,
   "source": [
    "data[(data.p1=='brown') & (data.p2=='Other')]"
   ],
   "outputs": [],
   "metadata": {}
  },
  {
   "cell_type": "code",
   "execution_count": null,
   "source": [
    "data[(data.p1=='type3') & (data.p2=='type6')]"
   ],
   "outputs": [],
   "metadata": {}
  },
  {
   "cell_type": "code",
   "execution_count": null,
   "source": [
    "data[(data.p1=='type3') & (data.p2=='type3')]"
   ],
   "outputs": [],
   "metadata": {}
  },
  {
   "cell_type": "code",
   "execution_count": null,
   "source": [
    "data[(data.p1=='type4') & (data.p2=='type4')]"
   ],
   "outputs": [],
   "metadata": {}
  },
  {
   "cell_type": "code",
   "execution_count": null,
   "source": [
    "data[(data.p1=='type6') & (data.p2=='type6')]"
   ],
   "outputs": [],
   "metadata": {}
  },
  {
   "cell_type": "code",
   "execution_count": null,
   "source": [],
   "outputs": [],
   "metadata": {}
  }
 ],
 "metadata": {
  "kernelspec": {
   "name": "python3",
   "display_name": "Python 3.7.1 64-bit ('pytorch': conda)"
  },
  "language_info": {
   "codemirror_mode": {
    "name": "ipython",
    "version": 3
   },
   "file_extension": ".py",
   "mimetype": "text/x-python",
   "name": "python",
   "nbconvert_exporter": "python",
   "pygments_lexer": "ipython3",
   "version": "3.7.1"
  },
  "interpreter": {
   "hash": "d37d5ced1983a4fd2890fb1e7a8ba8d74b45de76696d48abbf7d60217cc712fa"
  }
 },
 "nbformat": 4,
 "nbformat_minor": 4
}